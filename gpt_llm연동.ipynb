{
 "cells": [
  {
   "cell_type": "code",
   "execution_count": 1,
   "id": "b85abe11",
   "metadata": {},
   "outputs": [
    {
     "name": "stdout",
     "output_type": "stream",
     "text": [
      "Hello LangChain ChatGPT\n"
     ]
    }
   ],
   "source": [
    "print('Hello LangChain ChatGPT')"
   ]
  },
  {
   "cell_type": "code",
   "execution_count": 19,
   "id": "c71c0363",
   "metadata": {},
   "outputs": [],
   "source": [
    "import os\n",
    "from dotenv import load_dotenv\n",
    "from langchain_core.prompts import ChatPromptTemplate\n",
    "from langchain_openai import ChatOpenAI \n",
    "\n",
    "\n",
    "load_dotenv()\n",
    "OPENAI_API_KEY = os.getenv(\"OPENAI_API_KEY\")\n",
    "#print(OPENAI_API_KEY)"
   ]
  },
  {
   "cell_type": "code",
   "execution_count": 20,
   "id": "f0b8fc7b",
   "metadata": {},
   "outputs": [
    {
     "name": "stdout",
     "output_type": "stream",
     "text": [
      "input_variables=['input'] input_types={} partial_variables={} messages=[SystemMessagePromptTemplate(prompt=PromptTemplate(input_variables=[], input_types={}, partial_variables={}, template='당신은 개발자입니다.'), additional_kwargs={}), HumanMessagePromptTemplate(prompt=PromptTemplate(input_variables=['input'], input_types={}, partial_variables={}, template='{input}'), additional_kwargs={})]\n"
     ]
    }
   ],
   "source": [
    "# prompt\n",
    "prompt = ChatPromptTemplate.from_messages(\n",
    "    [ (\"system\", \"당신은 개발자입니다.\") , \n",
    "     (\"user\", \"{input}\") ]\n",
    ")\n",
    "print(prompt)\n",
    "\n",
    "prompt_text = prompt.format(input=\"LangServe는는 무엇인가요? 자세하게 설명해주세요\")"
   ]
  },
  {
   "cell_type": "code",
   "execution_count": 25,
   "id": "bbd5b723",
   "metadata": {},
   "outputs": [
    {
     "name": "stdout",
     "output_type": "stream",
     "text": [
      "client=<openai.resources.chat.completions.completions.Completions object at 0x000001A79795F560> async_client=<openai.resources.chat.completions.completions.AsyncCompletions object at 0x000001A797991BE0> root_client=<openai.OpenAI object at 0x000001A79795D5B0> root_async_client=<openai.AsyncOpenAI object at 0x000001A79795E030> model_name='gpt-4o' temperature=0.7 model_kwargs={} openai_api_key=SecretStr('**********')\n"
     ]
    }
   ],
   "source": [
    "# ChatGPT API를 사용하는 ChatOpenAI 인스턴스 생성\n",
    "llm = ChatOpenAI(\n",
    "    #model=\"gpt-3.5-turbo-0125\",\n",
    "    model=\"gpt-4o\",\n",
    "    temperature=0.7\n",
    ")\n",
    "print(llm)"
   ]
  },
  {
   "cell_type": "code",
   "execution_count": 26,
   "id": "e4597f19",
   "metadata": {},
   "outputs": [
    {
     "name": "stdout",
     "output_type": "stream",
     "text": [
      "<class 'langchain_core.messages.ai.AIMessage'>\n",
      "content='LangServe는 다양한 프로그래밍 언어를 지원하는 API 또는 서비스 플랫폼일 가능성이 큽니다. 이러한 플랫폼은 일반적으로 개발자들이 서로 다른 프로그래밍 언어 간의 상호작용을 쉽게 할 수 있도록 돕습니다. 예를 들어, 특정 언어로 작성된 코드를 다른 언어로 변환하거나, 여러 언어로 작성된 모듈들이 원활하게 통신할 수 있게 해주는 기능을 제공할 수 있습니다.\\n\\nLangServe의 주요 기능은 다음과 같을 수 있습니다:\\n\\n1. **다중 언어 지원**: 여러 프로그래밍 언어를 지원하여 개발자가 선호하는 언어를 활용할 수 있게 합니다.\\n\\n2. **코드 변환**: 한 언어로 작성된 코드를 다른 언어로 변환하는 기능을 제공할 수 있습니다. 이를 통해 개발자는 다양한 플랫폼에서 동일한 로직을 재사용할 수 있습니다.\\n\\n3. **API 게이트웨이**: 여러 언어로 작성된 서비스들이 서로 통신할 수 있도록 API 게이트웨이를 제공하여, 서로 다른 환경 간의 상호작용을 쉽게 만듭니다.\\n\\n4. **통합 개발 환경**: 다양한 언어를 지원하는 통합 개발 도구를 제공하여 개발자가 보다 효율적으로 작업할 수 있게 합니다.\\n\\n5. **성능 최적화 및 관리**: 다중 언어 환경에서의 성능을 최적화하고, 모니터링 및 관리 도구를 제공하여 시스템의 안정성을 유지합니다.\\n\\nLangServe의 구체적인 기능과 특성은 해당 플랫폼의 공식 문서나 웹사이트를 참조하여 확인할 수 있습니다. 사용 사례나 실제 제공하는 서비스 범위는 플랫폼의 설계 목적에 따라 다를 수 있습니다.' additional_kwargs={'refusal': None} response_metadata={'token_usage': {'completion_tokens': 374, 'prompt_tokens': 29, 'total_tokens': 403, 'completion_tokens_details': {'accepted_prediction_tokens': 0, 'audio_tokens': 0, 'reasoning_tokens': 0, 'rejected_prediction_tokens': 0}, 'prompt_tokens_details': {'audio_tokens': 0, 'cached_tokens': 0}}, 'model_name': 'gpt-4o-2024-08-06', 'system_fingerprint': 'fp_a288987b44', 'id': 'chatcmpl-BglcYkGMi8IKTxFaTM72ApTNwnje5', 'service_tier': 'default', 'finish_reason': 'stop', 'logprobs': None} id='run--cec0d635-6805-462a-9c85-98547ff9432d-0' usage_metadata={'input_tokens': 29, 'output_tokens': 374, 'total_tokens': 403, 'input_token_details': {'audio': 0, 'cache_read': 0}, 'output_token_details': {'audio': 0, 'reasoning': 0}}\n",
      "응답: LangServe는 다양한 프로그래밍 언어를 지원하는 API 또는 서비스 플랫폼일 가능성이 큽니다. 이러한 플랫폼은 일반적으로 개발자들이 서로 다른 프로그래밍 언어 간의 상호작용을 쉽게 할 수 있도록 돕습니다. 예를 들어, 특정 언어로 작성된 코드를 다른 언어로 변환하거나, 여러 언어로 작성된 모듈들이 원활하게 통신할 수 있게 해주는 기능을 제공할 수 있습니다.\n",
      "\n",
      "LangServe의 주요 기능은 다음과 같을 수 있습니다:\n",
      "\n",
      "1. **다중 언어 지원**: 여러 프로그래밍 언어를 지원하여 개발자가 선호하는 언어를 활용할 수 있게 합니다.\n",
      "\n",
      "2. **코드 변환**: 한 언어로 작성된 코드를 다른 언어로 변환하는 기능을 제공할 수 있습니다. 이를 통해 개발자는 다양한 플랫폼에서 동일한 로직을 재사용할 수 있습니다.\n",
      "\n",
      "3. **API 게이트웨이**: 여러 언어로 작성된 서비스들이 서로 통신할 수 있도록 API 게이트웨이를 제공하여, 서로 다른 환경 간의 상호작용을 쉽게 만듭니다.\n",
      "\n",
      "4. **통합 개발 환경**: 다양한 언어를 지원하는 통합 개발 도구를 제공하여 개발자가 보다 효율적으로 작업할 수 있게 합니다.\n",
      "\n",
      "5. **성능 최적화 및 관리**: 다중 언어 환경에서의 성능을 최적화하고, 모니터링 및 관리 도구를 제공하여 시스템의 안정성을 유지합니다.\n",
      "\n",
      "LangServe의 구체적인 기능과 특성은 해당 플랫폼의 공식 문서나 웹사이트를 참조하여 확인할 수 있습니다. 사용 사례나 실제 제공하는 서비스 범위는 플랫폼의 설계 목적에 따라 다를 수 있습니다.\n"
     ]
    }
   ],
   "source": [
    "try:\n",
    "    response = llm.invoke(prompt_text)\n",
    "    print(type(response))\n",
    "    print(response)\n",
    "    print(\"응답:\", response.content)\n",
    "except Exception as e:\n",
    "    print(f\"오류 발생: {e}\")"
   ]
  }
 ],
 "metadata": {
  "kernelspec": {
   "display_name": "langchain-basic-kGdHTiMZ-py3.12",
   "language": "python",
   "name": "python3"
  },
  "language_info": {
   "codemirror_mode": {
    "name": "ipython",
    "version": 3
   },
   "file_extension": ".py",
   "mimetype": "text/x-python",
   "name": "python",
   "nbconvert_exporter": "python",
   "pygments_lexer": "ipython3",
   "version": "3.12.7"
  }
 },
 "nbformat": 4,
 "nbformat_minor": 5
}
