{
 "cells": [
  {
   "cell_type": "code",
   "execution_count": 1,
   "id": "d17cbd16",
   "metadata": {},
   "outputs": [
    {
     "name": "stdout",
     "output_type": "stream",
     "text": [
      "계란과 밥, 김치로 만들 수 있는 요리를 추천드립니다!\n",
      "\n",
      "추천 요리: 김치볶음밥\n",
      "\n",
      "레시피: 밥과 김치를 준비합니다. 김치를 잘게 썰어줍니다. 팬에 기름을 두르고 썰어 놓은 김치를 볶아줍니다. 볶아진 김치에 밥을 넣고 잘 섞어줍니다. 마지막에 계란을 넣고 빠르게 볶아주면 김치볶음밥이 완성됩니다.\n"
     ]
    }
   ],
   "source": [
    "# 1-1.py\n",
    "import os\n",
    "from dotenv import load_dotenv\n",
    "from langchain_core.prompts import PromptTemplate\n",
    "from langchain_openai import ChatOpenAI\n",
    "from langchain_core.output_parsers import StrOutputParser\n",
    "\n",
    "# .env 파일 로드\n",
    "load_dotenv()\n",
    "\n",
    "# Groq API를 사용하는 ChatOpenAI 인스턴스 생성 (이전 노트북에서 사용된 방식 그대로)\n",
    "llm = ChatOpenAI(\n",
    "    base_url=\"https://api.groq.com/openai/v1\",  # Groq API 엔드포인트\n",
    "    model=\"meta-llama/llama-4-scout-17b-16e-instruct\", # 또는 다른 Groq 모델\n",
    "    temperature=0.7\n",
    ")\n",
    "\n",
    "# 1. PromptTemplate을 사용하여 프롬프트 작성\n",
    "# 재료를 입력받아 요리와 레시피를 추천하도록 프롬프트 구성\n",
    "prompt_template = PromptTemplate.from_template(\n",
    "    \"\"\"\n",
    "    당신은 훌륭한 AI 요리사입니다. 사용자가 제공한 재료를 사용하여 만들 수 있는 맛있는 요리를 추천하고, 그 요리의 간단한 레시피를 5문장 이내로 작성해 주세요.\n",
    "\n",
    "    재료: {ingredients}\n",
    "\n",
    "    ---\n",
    "    추천 요리:\n",
    "    레시피:\n",
    "    \"\"\"\n",
    ")\n",
    "\n",
    "# 2. StrOutputParser로 결과를 문자열로 출력\n",
    "output_parser = StrOutputParser()\n",
    "\n",
    "# 3. LCEL (|) 문법을 사용하여 체인 연결\n",
    "# prompt_template -> llm -> output_parser\n",
    "ai_chef_chain = prompt_template | llm | output_parser\n",
    "\n",
    "# 예시 실행 결과에 맞춰 출력\n",
    "print(\"계란과 밥, 김치로 만들 수 있는 요리를 추천드립니다!\\n\")\n",
    "\n",
    "# 사용자가 입력할 재료\n",
    "user_ingredients = \"계란, 밥, 김치\"\n",
    "\n",
    "# 체인 호출\n",
    "try:\n",
    "    response = ai_chef_chain.invoke({\"ingredients\": user_ingredients})\n",
    "    print(response)\n",
    "except Exception as e:\n",
    "    print(f\"오류 발생: {e}\")"
   ]
  }
 ],
 "metadata": {
  "kernelspec": {
   "display_name": "langchain-basic-kGdHTiMZ-py3.12",
   "language": "python",
   "name": "python3"
  },
  "language_info": {
   "codemirror_mode": {
    "name": "ipython",
    "version": 3
   },
   "file_extension": ".py",
   "mimetype": "text/x-python",
   "name": "python",
   "nbconvert_exporter": "python",
   "pygments_lexer": "ipython3",
   "version": "3.12.7"
  }
 },
 "nbformat": 4,
 "nbformat_minor": 5
}
