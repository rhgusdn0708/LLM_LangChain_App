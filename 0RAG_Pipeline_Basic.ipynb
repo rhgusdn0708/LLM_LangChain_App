{
 "cells": [
  {
   "cell_type": "code",
   "execution_count": 19,
   "id": "a755183e",
   "metadata": {},
   "outputs": [
    {
     "name": "stdout",
     "output_type": "stream",
     "text": [
      "sk\n"
     ]
    }
   ],
   "source": [
    "import os\n",
    "from dotenv import load_dotenv\n",
    "\n",
    "load_dotenv()\n",
    "OPENAI_API_KEY = os.getenv(\"OPENAI_API_KEY\")\n",
    "print(OPENAI_API_KEY[:2])"
   ]
  },
  {
   "cell_type": "markdown",
   "id": "9cfa88e9",
   "metadata": {},
   "source": [
    "### 1단계"
   ]
  },
  {
   "cell_type": "code",
   "execution_count": 5,
   "id": "49480bcc",
   "metadata": {},
   "outputs": [],
   "source": [
    "# %pip install langchain_community faiss-cpu\n",
    "from langchain_openai import ChatOpenAI,OpenAIEmbeddings\n",
    "from langchain.vectorstores import FAISS\n",
    "from langchain.text_splitter import RecursiveCharacterTextSplitter\n",
    "from langchain.document_loaders import TextLoader\n",
    "from pprint import pprint"
   ]
  },
  {
   "cell_type": "code",
   "execution_count": 6,
   "id": "e48d2f6a",
   "metadata": {},
   "outputs": [
    {
     "name": "stdout",
     "output_type": "stream",
     "text": [
      "<class 'langchain_core.documents.base.Document'> 제12조(비과세소득) 다음 각 호의 \n"
     ]
    }
   ],
   "source": [
    "\n",
    "# 1. Load Data\n",
    "loader = TextLoader(\"data/taxinfo.txt\", encoding=\"utf-8\")\n",
    "documents = loader.load()\n",
    "print(type(documents[0]),documents[0].page_content[:20])"
   ]
  },
  {
   "cell_type": "code",
   "execution_count": 7,
   "id": "b26455c9",
   "metadata": {},
   "outputs": [
    {
     "name": "stdout",
     "output_type": "stream",
     "text": [
      "12 page_content='아. 제21조제1항제26호에 따른 종교인소득 중 다음의 어느 하나에 해당하는 소득\n",
      "    　　　　1) 「통계법」 제22조에 따라 통계청장이 고시하는 한국표준직업분류에 따른 종교관련종사자(이하 “종교관련종사자”라 한다)가 받는 대통령령으로 정하는 학자금\n",
      "    　　　　2) 종교관련종사자가 받는 대통령령으로 정하는 식사 또는 식사대\n",
      "    　　　　3) 종교관련종사자가 받는 대통령령으로 정하는 실비변상적 성질의 지급액\n",
      "    　　　　4) 종교관련종사자 또는 그 배우자의 출산이나 6세 이하(해당 과세기간 개시일을 기준으로 판단한다) 자녀의 보육과 관련하여 종교단체로부터 받는 금액으로서 월 20만원 이내의 금액\n",
      "    　　　　5) 종교관련종사자가 기획재정부령으로 정하는 사택을 제공받아 얻는 이익\n",
      "    자. 법령ㆍ조례에 따른 위원회 등의 보수를 받지 아니하는 위원(학술원 및 예술원의 회원을 포함한다) 등이 받는 수당' metadata={'source': 'data/taxinfo.txt'}\n"
     ]
    }
   ],
   "source": [
    "\n",
    "# 2️. Text Split\n",
    "splitter = RecursiveCharacterTextSplitter(chunk_size=500, chunk_overlap=50)\n",
    "split_docs = splitter.split_documents(documents)\n",
    "print(len(split_docs),split_docs[11])"
   ]
  },
  {
   "cell_type": "code",
   "execution_count": 8,
   "id": "27d6e289",
   "metadata": {},
   "outputs": [],
   "source": [
    "\n",
    "# 3️. Indexing (벡터 저장)\n",
    "vectorstore = FAISS.from_documents(split_docs, OpenAIEmbeddings())\n",
    "# 로컬 파일로 저장\n",
    "vectorstore.save_local(\"faiss_index\")"
   ]
  },
  {
   "cell_type": "code",
   "execution_count": 10,
   "id": "c58110dd",
   "metadata": {},
   "outputs": [
    {
     "name": "stdout",
     "output_type": "stream",
     "text": [
      "<class 'list'> [Document(id='1f0ec8a1-5386-4335-b1fd-ed93fe7e2843', metadata={'source': 'data/taxinfo.txt'}, page_content='제12조(비과세소득) 다음 각 호의 소득에 대해서는 소득세를 과세하지 아니한다. <개정 2010. 12. 27., 2011. 7. 25., 2011. 9. 15., 2012. 2. 1., 2013. 1. 1., 2013. 3. 22., 2014. 1. 1., 2014. 3. 18., 2014. 12. 23., 2015. 12. 15., 2016. 12. 20., 2018. 3. 20., 2018. 12. 31., 2019. 12. 10., 2019. 12. 31., 2020. 6. 9., 2020. 12. 29., 2022. 8. 12., 2022. 12. 31., 2023. 8. 8., 2023. 12. 31.>\\n1. 「공익신탁법」에 따른 공익신탁의 이익\\n2. 사업소득 중 다음 각 목의 어느 하나에 해당하는 소득\\n    가. 논ㆍ밭을 작물 생산에 이용하게 함으로써 발생하는 소득'), Document(id='18de7e8e-c1a0-43de-961d-e9b9ba4f36e0', metadata={'source': 'data/taxinfo.txt'}, page_content='가. 논ㆍ밭을 작물 생산에 이용하게 함으로써 발생하는 소득\\n    나. 1개의 주택을 소유하는 자의 주택임대소득(제99조에 따른 기준시가가 12억원을 초과하는 주택 및 국외에 소재하는 주택의 임대소득은 제외한다) 또는 해당 과세기간에 대통령령으로 정하는 총수입금액의 합계액이 2천만원 이하인 자의 주택임대소득(2018년 12월 31일 이전에 끝나는 과세기간까지 발생하는 소득으로 한정한다). 이 경우 주택 수의 계산 및 주택임대소득의 산정 등 필요한 사항은 대통령령으로 정한다.\\n    다. 대통령령으로 정하는 농어가부업소득\\n    라. 대통령령으로 정하는 전통주의 제조에서 발생하는 소득\\n    마. 조림기간 5년 이상인 임지(林地)의 임목(林木)의 벌채 또는 양도로 발생하는 소득으로서 연 600만원 이하의 금액. 이 경우 조림기간 및 세액의 계산 등 필요한 사항은 대통령령으로 정한다.\\n    바. 대통령령으로 정하는 작물재배업에서 발생하는 소득'), Document(id='7e06a471-b200-42d4-a478-85fb688d60c0', metadata={'source': 'data/taxinfo.txt'}, page_content='마. 「고용보험법」에 따라 받는 실업급여, 육아휴직 급여, 육아기 근로시간 단축 급여, 출산전후휴가 급여등, 「제대군인 지원에 관한 법률」에 따라 받는 전직지원금, 「국가공무원법」ㆍ「지방공무원법」에 따른 공무원 또는 「사립학교교직원 연금법」ㆍ「별정우체국법」을 적용받는 사람이 관련 법령에 따라 받는 육아휴직수당(「사립학교법」 제70조의2에 따라 임명된 사무직원이 학교의 정관 또는 규칙에 따라 지급받는 육아휴직수당으로서 대통령령으로 정하는 금액 이하의 것을 포함한다)\\n    바. 「국민연금법」에 따라 받는 반환일시금(사망으로 받는 것만 해당한다) 및 사망일시금'), Document(id='729bbe33-e253-4c7f-9718-f285ee90c7dc', metadata={'source': 'data/taxinfo.txt'}, page_content='바. 대통령령으로 정하는 작물재배업에서 발생하는 소득\\n    사. 대통령령으로 정하는 어로어업 또는 양식어업에서 발생하는 소득\\n3. 근로소득과 퇴직소득 중 다음 각 목의 어느 하나에 해당하는 소득\\n    가. 대통령령으로 정하는 복무 중인 병(兵)이 받는 급여\\n    나. 법률에 따라 동원된 사람이 그 동원 직장에서 받는 급여\\n    다. 「산업재해보상보험법」에 따라 수급권자가 받는 요양급여, 휴업급여, 장해급여, 간병급여, 유족급여, 유족특별급여, 장해특별급여, 장의비 또는 근로의 제공으로 인한 부상ㆍ질병ㆍ사망과 관련하여 근로자나 그 유족이 받는 배상ㆍ보상 또는 위자(慰藉)의 성질이 있는 급여\\n    라. 「근로기준법」 또는 「선원법」에 따라 근로자ㆍ선원 및 그 유족이 받는 요양보상금, 휴업보상금, 상병보상금(傷病補償金), 일시보상금, 장해보상금, 유족보상금, 행방불명보상금, 소지품 유실보상금, 장의비 및 장제비')]\n",
      "[Document(id='1f0ec8a1-5386-4335-b1fd-ed93fe7e2843', metadata={'source': 'data/taxinfo.txt'}, page_content='제12조(비과세소득) 다음 각 호의 소득에 대해서는 소득세를 과세하지 아니한다. <개정 2010. 12. 27., 2011. 7. 25., 2011. 9. 15., 2012. 2. 1., 2013. 1. 1., 2013. 3. 22., 2014. 1. 1., 2014. 3. 18., 2014. 12. 23., 2015. 12. 15., 2016. 12. 20., 2018. 3. 20., 2018. 12. 31., 2019. 12. 10., 2019. 12. 31., 2020. 6. 9., 2020. 12. 29., 2022. 8. 12., 2022. 12. 31., 2023. 8. 8., 2023. 12. 31.>\\n1. 「공익신탁법」에 따른 공익신탁의 이익\\n2. 사업소득 중 다음 각 목의 어느 하나에 해당하는 소득\\n    가. 논ㆍ밭을 작물 생산에 이용하게 함으로써 발생하는 소득'),\n",
      " Document(id='18de7e8e-c1a0-43de-961d-e9b9ba4f36e0', metadata={'source': 'data/taxinfo.txt'}, page_content='가. 논ㆍ밭을 작물 생산에 이용하게 함으로써 발생하는 소득\\n    나. 1개의 주택을 소유하는 자의 주택임대소득(제99조에 따른 기준시가가 12억원을 초과하는 주택 및 국외에 소재하는 주택의 임대소득은 제외한다) 또는 해당 과세기간에 대통령령으로 정하는 총수입금액의 합계액이 2천만원 이하인 자의 주택임대소득(2018년 12월 31일 이전에 끝나는 과세기간까지 발생하는 소득으로 한정한다). 이 경우 주택 수의 계산 및 주택임대소득의 산정 등 필요한 사항은 대통령령으로 정한다.\\n    다. 대통령령으로 정하는 농어가부업소득\\n    라. 대통령령으로 정하는 전통주의 제조에서 발생하는 소득\\n    마. 조림기간 5년 이상인 임지(林地)의 임목(林木)의 벌채 또는 양도로 발생하는 소득으로서 연 600만원 이하의 금액. 이 경우 조림기간 및 세액의 계산 등 필요한 사항은 대통령령으로 정한다.\\n    바. 대통령령으로 정하는 작물재배업에서 발생하는 소득'),\n",
      " Document(id='7e06a471-b200-42d4-a478-85fb688d60c0', metadata={'source': 'data/taxinfo.txt'}, page_content='마. 「고용보험법」에 따라 받는 실업급여, 육아휴직 급여, 육아기 근로시간 단축 급여, 출산전후휴가 급여등, 「제대군인 지원에 관한 법률」에 따라 받는 전직지원금, 「국가공무원법」ㆍ「지방공무원법」에 따른 공무원 또는 「사립학교교직원 연금법」ㆍ「별정우체국법」을 적용받는 사람이 관련 법령에 따라 받는 육아휴직수당(「사립학교법」 제70조의2에 따라 임명된 사무직원이 학교의 정관 또는 규칙에 따라 지급받는 육아휴직수당으로서 대통령령으로 정하는 금액 이하의 것을 포함한다)\\n    바. 「국민연금법」에 따라 받는 반환일시금(사망으로 받는 것만 해당한다) 및 사망일시금'),\n",
      " Document(id='729bbe33-e253-4c7f-9718-f285ee90c7dc', metadata={'source': 'data/taxinfo.txt'}, page_content='바. 대통령령으로 정하는 작물재배업에서 발생하는 소득\\n    사. 대통령령으로 정하는 어로어업 또는 양식어업에서 발생하는 소득\\n3. 근로소득과 퇴직소득 중 다음 각 목의 어느 하나에 해당하는 소득\\n    가. 대통령령으로 정하는 복무 중인 병(兵)이 받는 급여\\n    나. 법률에 따라 동원된 사람이 그 동원 직장에서 받는 급여\\n    다. 「산업재해보상보험법」에 따라 수급권자가 받는 요양급여, 휴업급여, 장해급여, 간병급여, 유족급여, 유족특별급여, 장해특별급여, 장의비 또는 근로의 제공으로 인한 부상ㆍ질병ㆍ사망과 관련하여 근로자나 그 유족이 받는 배상ㆍ보상 또는 위자(慰藉)의 성질이 있는 급여\\n    라. 「근로기준법」 또는 「선원법」에 따라 근로자ㆍ선원 및 그 유족이 받는 요양보상금, 휴업보상금, 상병보상금(傷病補償金), 일시보상금, 장해보상금, 유족보상금, 행방불명보상금, 소지품 유실보상금, 장의비 및 장제비')]\n"
     ]
    }
   ],
   "source": [
    "\n",
    "# 4️. Retrieval (유사 문서 검색)\n",
    "retriever = vectorstore.as_retriever(search_kwargs={\"k\": 4})\n",
    "# **질문(쿼리)**에 대해 유사한 문서를 검색하는 역할\n",
    "retrieved_docs = retriever.invoke(\"소득세법에서 비과세소득에 해당하는 소득은 무엇인가요?\")\n",
    "print(type(retrieved_docs), retrieved_docs)\n",
    "pprint(retrieved_docs)\n"
   ]
  },
  {
   "cell_type": "code",
   "execution_count": null,
   "id": "6c9c2e4f",
   "metadata": {},
   "outputs": [],
   "source": [
    "\n",
    "# 5️. Generation (LLM 응답 생성)\n",
    "llm = ChatOpenAI(model=\"gpt-4o\")\n",
    "context = \"\\n\\n\".join([doc.page_content for doc in retrieved_docs])\n",
    "print(context)"
   ]
  },
  {
   "cell_type": "code",
   "execution_count": null,
   "id": "00eb6005",
   "metadata": {},
   "outputs": [],
   "source": [
    "\n",
    "response_context = llm.invoke(f\"소득세법에서 비과세소득에 해당하는 소득은 무엇인가요? 관련 정보: {context}\")\n",
    "print('context 적용한 결과')\n",
    "pprint(response_context.content)"
   ]
  },
  {
   "cell_type": "code",
   "execution_count": null,
   "id": "0647294f",
   "metadata": {},
   "outputs": [],
   "source": [
    "\n",
    "response = llm.invoke(f\"소득세법에서 비과세소득에 해당하는 소득은 무엇인가요?\")\n",
    "print('context 적용하지 않은 결과')\n",
    "pprint(response.content)"
   ]
  },
  {
   "cell_type": "markdown",
   "id": "a2aaf8bc",
   "metadata": {},
   "source": [
    "### 2단계"
   ]
  },
  {
   "cell_type": "code",
   "execution_count": 17,
   "id": "2777fa0d",
   "metadata": {},
   "outputs": [
    {
     "name": "stdout",
     "output_type": "stream",
     "text": [
      "개선된 결과:\n",
      "('소득세법 제12조에 따르면, 비과세소득은 다음과 같이 구분됩니다:\\n'\n",
      " '\\n'\n",
      " '1. **공익신탁 이익**: 제12조 1항에 따라 공익신탁법에 따른 공익신탁의 이익은 비과세입니다.\\n'\n",
      " '\\n'\n",
      " '2. **사업소득**: 제12조 2항에 명시된 소득으로, 논밭 임대소득, 일정 기준 이하의 주택임대소득, 농어가부업소득, 전통주 제조 '\n",
      " '소득, 조림기간 5년 이상 임지의 벌채 소득(연 600만원 이하), 특정 작물재배업 및 어로어업 소득이 포함됩니다.\\n'\n",
      " '\\n'\n",
      " '3. **근로소득 및 퇴직소득**: 제12조 3항에 따라 국외 근로 소득, 특정 보험료, 연장/야간/휴일근로 급여, 식사 제공, '\n",
      " '출산/보육 관련 급여, 국군포로 보수, 대학생 근로 장학금, 직무발명 보상금 등이 비과세입니다.\\n'\n",
      " '\\n'\n",
      " '4. **기타소득**: 제12조 5항에 명시된 보훈급여금, 상금, 훈장 관련 부상, 직무발명 보상금, 국군포로 위로지원금, 문화유산 양도 '\n",
      " '소득, 종교인 소득, 위원회 수당 등이 포함됩니다.')\n"
     ]
    }
   ],
   "source": [
    "from langchain_openai import ChatOpenAI, OpenAIEmbeddings\n",
    "from langchain.vectorstores import FAISS\n",
    "from langchain.text_splitter import RecursiveCharacterTextSplitter\n",
    "from langchain.document_loaders import TextLoader\n",
    "from pprint import pprint\n",
    "\n",
    "# 1. 데이터 로드 (기존과 동일)\n",
    "loader = TextLoader(\"data/taxinfo.txt\", encoding=\"utf-8\")\n",
    "documents = loader.load()\n",
    "\n",
    "# 2. 텍스트 분할 개선\n",
    "splitter = RecursiveCharacterTextSplitter(\n",
    "    chunk_size=1000,  # 크기 증가\n",
    "    chunk_overlap=200,\n",
    "    separators=[\"\\n\\n\", \"\\n\", \" \", \"\"],  # 자연스러운 분할을 위한 구분자\n",
    "    length_function=len,\n",
    "    is_separator_regex=False,\n",
    ")\n",
    "split_docs = splitter.split_documents(documents)\n",
    "\n",
    "# 3. 인덱싱 (벡터 저장)\n",
    "vectorstore = FAISS.from_documents(split_docs, OpenAIEmbeddings())\n",
    "vectorstore.save_local(\"faiss_index\")\n",
    "\n",
    "# 4. 검색 개선\n",
    "retriever = vectorstore.as_retriever(\n",
    "    search_type=\"mmr\",  # 최대 다양성 검색\n",
    "    search_kwargs={\"k\": 5, \"fetch_k\": 10}  # 더 많은 결과 검색\n",
    ")\n",
    "\n",
    "# 5. 프롬프트 엔지니어링\n",
    "def generate_prompt(query, context):\n",
    "    return f\"\"\"다음은 소득세법 비과세소득 관련 조항입니다. 문맥을 고려하여 질문에 답변하세요.\n",
    "\n",
    "[관련 조항]\n",
    "{context}\n",
    "\n",
    "[질문]\n",
    "{query}\n",
    "\n",
    "[답변 요구사항]\n",
    "- 비과세소득 유형을 계층적으로 구분하여 설명\n",
    "- 각 항목별 구체적인 조건 명시\n",
    "- 법조문의 항, 호, 목 번호를 포함\n",
    "- 500자 이내로 간결하게 요약\"\"\"\n",
    "\n",
    "# 검색 및 응답 생성\n",
    "query = \"소득세법에서 비과세소득에 해당하는 소득은 무엇인가요?\"\n",
    "retrieved_docs = retriever.invoke(query)\n",
    "context = \"\\n\\n\".join([doc.page_content for doc in retrieved_docs])\n",
    "\n",
    "llm = ChatOpenAI(model=\"gpt-4o\", temperature=0.3)  # 창의성 낮춤\n",
    "response = llm.invoke(generate_prompt(query, context))\n",
    "\n",
    "print('개선된 결과:')\n",
    "pprint(response.content)"
   ]
  },
  {
   "cell_type": "markdown",
   "id": "3de3063d",
   "metadata": {},
   "source": [
    "### 3단계"
   ]
  },
  {
   "cell_type": "code",
   "execution_count": null,
   "id": "f338d623",
   "metadata": {},
   "outputs": [],
   "source": [
    "from langchain_openai import ChatOpenAI,OpenAIEmbeddings\n",
    "from langchain.vectorstores import FAISS\n",
    "from langchain.text_splitter import RecursiveCharacterTextSplitter\n",
    "from langchain.document_loaders import TextLoader\n",
    "from pprint import pprint\n",
    "\n",
    "# 1. Load Data\n",
    "loader = TextLoader(\"data/taxinfo.txt\", encoding=\"utf-8\")\n",
    "documents = loader.load()\n",
    "\n",
    "print(\"=== 원본 문서 길이 ===\")\n",
    "print(f\"전체 문서 길이: {len(documents[0].page_content)} 글자\")\n",
    "\n",
    "# 2. Text Split 개선\n",
    "splitter = RecursiveCharacterTextSplitter(\n",
    "    chunk_size=800,  # 500 → 800 (법령 조항이 길어서)\n",
    "    chunk_overlap=150,  # 50 → 150 (맥락 보존 강화)\n",
    "    separators=[\"\\n\\n\", \"\\n\", \". \", \" \", \"\"]  # 법령 구조에 맞는 분리자\n",
    ")\n",
    "split_docs = splitter.split_documents(documents)\n",
    "\n",
    "print(f\"분할된 문서 수: {len(split_docs)}개\")\n",
    "print(\"=== 분할 예시 ===\")\n",
    "for i, doc in enumerate(split_docs[:3]):\n",
    "    print(f\"Chunk {i+1} ({len(doc.page_content)}글자): {doc.page_content[:100]}...\")\n",
    "\n",
    "# 3. Indexing\n",
    "vectorstore = FAISS.from_documents(split_docs, OpenAIEmbeddings())\n",
    "vectorstore.save_local(\"./db/faiss_index\")\n",
    "\n",
    "# 4. Retrieval 개선\n",
    "retriever = vectorstore.as_retriever(\n",
    "    search_type=\"similarity\", \n",
    "    search_kwargs={\"k\": 6}  # 2 → 6으로 증가\n",
    ")\n",
    "\n",
    "query = \"소득세법에서 비과세소득에 해당하는 소득은 무엇인가요?\"\n",
    "retrieved_docs = retriever.invoke(query)\n",
    "\n",
    "print(f\"\\n=== 검색된 문서 ({len(retrieved_docs)}개) ===\")\n",
    "for i, doc in enumerate(retrieved_docs):\n",
    "    print(f\"문서 {i+1}: {doc.page_content[:200]}...\")\n",
    "    print(\"---\")\n",
    "\n",
    "# 5. Generation - 개선된 프롬프트\n",
    "llm = ChatOpenAI(model=\"gpt-4o\", temperature=0)\n",
    "context = \"\\n\\n\".join([f\"[문서 {i+1}]\\n{doc.page_content}\" for i, doc in enumerate(retrieved_docs)])\n",
    "\n",
    "# 개선된 프롬프트 - 더 구체적인 지시사항\n",
    "improved_prompt = f\"\"\"\n",
    "당신은 세무 전문가입니다. 아래 소득세법 제12조 조항을 바탕으로 질문에 답변해주세요.\n",
    "\n",
    "질문: {query}\n",
    "\n",
    "법령 조항:\n",
    "{context}\n",
    "\n",
    "다음 형식으로 답변해주세요:\n",
    "1. 비과세소득의 정의\n",
    "2. 주요 비과세소득 항목들을 다음과 같이 분류:\n",
    "   - 사업소득 관련\n",
    "   - 근로소득/퇴직소득 관련  \n",
    "   - 연금소득 관련\n",
    "   - 기타소득 관련\n",
    "3. 각 항목별 구체적인 조건이나 한도액 명시\n",
    "\n",
    "답변은 법조문을 인용하면서 구체적으로 작성해주세요.\n",
    "\"\"\"\n",
    "\n",
    "# 비교용 - 기존 방식\n",
    "simple_prompt = f\"소득세법에서 비과세소득에 해당하는 소득은 무엇인가요? 관련 정보: {context}\"\n",
    "\n",
    "print(\"\\n=== 개선된 프롬프트로 답변 ===\")\n",
    "response_improved = llm.invoke(improved_prompt)\n",
    "pprint(response_improved.content)\n",
    "\n",
    "print(\"\\n\" + \"=\"*50)\n",
    "print(\"=== 기존 프롬프트로 답변 ===\")\n",
    "response_simple = llm.invoke(simple_prompt)\n",
    "pprint(response_simple.content)\n",
    "\n",
    "# 추가 개선: 다른 검색 방식 시도\n",
    "print(\"\\n\" + \"=\"*50)\n",
    "print(\"=== 검색 방식 개선 테스트 ===\")"
   ]
  },
  {
   "cell_type": "code",
   "execution_count": null,
   "id": "95150221",
   "metadata": {},
   "outputs": [],
   "source": [
    "# MMR(Maximum Marginal Relevance) 검색 - 다양성 확보\n",
    "retriever_mmr = vectorstore.as_retriever(\n",
    "    search_type=\"mmr\",\n",
    "    search_kwargs={\"k\": 6, \"fetch_k\": 20}\n",
    ")\n",
    "retrieved_docs_mmr = retriever_mmr.invoke(query)\n",
    "context_mmr = \"\\n\\n\".join([f\"[문서 {i+1}]\\n{doc.page_content}\" for i, doc in enumerate(retrieved_docs_mmr)])\n",
    "\n",
    "response_mmr = llm.invoke(f\"\"\"\n",
    "{query}\n",
    "\n",
    "법령 조항 (MMR 검색):\n",
    "{context_mmr}\n",
    "\n",
    "위 법령을 바탕으로 비과세소득 항목들을 체계적으로 정리해주세요.\n",
    "\"\"\")\n",
    "\n",
    "print(\"=== MMR 검색 결과 ===\")\n",
    "pprint(response_mmr.content)"
   ]
  }
 ],
 "metadata": {
  "kernelspec": {
   "display_name": "langchain-basic-kGdHTiMZ-py3.12",
   "language": "python",
   "name": "python3"
  },
  "language_info": {
   "codemirror_mode": {
    "name": "ipython",
    "version": 3
   },
   "file_extension": ".py",
   "mimetype": "text/x-python",
   "name": "python",
   "nbconvert_exporter": "python",
   "pygments_lexer": "ipython3",
   "version": "3.12.7"
  }
 },
 "nbformat": 4,
 "nbformat_minor": 5
}
