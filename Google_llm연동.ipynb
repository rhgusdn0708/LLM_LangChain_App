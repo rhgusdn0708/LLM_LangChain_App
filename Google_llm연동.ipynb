{
 "cells": [
  {
   "cell_type": "code",
   "execution_count": 1,
   "id": "82757f07",
   "metadata": {},
   "outputs": [
    {
     "name": "stdout",
     "output_type": "stream",
     "text": [
      "AI\n"
     ]
    }
   ],
   "source": [
    "import os\n",
    "from dotenv import load_dotenv\n",
    "\n",
    "load_dotenv()\n",
    "GOOGLE_API_KEY = os.getenv(\"GOOGLE_API_KEY\")\n",
    "print(GOOGLE_API_KEY[:2])"
   ]
  },
  {
   "cell_type": "code",
   "execution_count": 2,
   "id": "d0f7e13d",
   "metadata": {},
   "outputs": [
    {
     "name": "stdout",
     "output_type": "stream",
     "text": [
      " Google Gemini Response:\n",
      "LangChain은 대규모 언어 모델(LLM)을 기반으로 애플리케이션을 구축하기 위한 프레임워크입니다.  단순히 LLM을 호출하는 것 이상으로,  LLM의 기능을 확장하고, 다양한 데이터 소스와 통합하며, 메모리 및 상태 관리를 제공하여 더욱 강력하고 유용한 애플리케이션을 개발할 수 있도록 지원합니다.\n",
      "\n",
      "LangChain의 주요 특징은 다음과 같습니다.\n",
      "\n",
      "* **모듈화:** LangChain은 다양한 구성 요소(LLM, 프로세서, 메모리, 인덱서 등)를 모듈화하여 재사용성과 유연성을 높입니다.  개발자는 필요에 따라 구성 요소를 조합하여 원하는 기능을 구현할 수 있습니다.\n",
      "\n",
      "* **LLM 호환성:** 다양한 LLM(OpenAI, Hugging Face, Google AI 등)을 지원하여 개발자가 선호하는 모델을 선택할 수 있습니다.\n",
      "\n",
      "* **데이터 연결:**  데이터베이스, 파일 시스템, 웹 페이지 등 다양한 데이터 소스에 접근하여 LLM에 필요한 정보를 제공합니다.  이를 통해 LLM은 외부 정보를 활용하여 더욱 정확하고 풍부한 응답을 생성할 수 있습니다.\n",
      "\n",
      "* **메모리 관리:**  대화형 애플리케이션에서 이전 대화 내용을 기억하고 활용하여 맥락을 유지할 수 있도록 메모리 관리 기능을 제공합니다.\n",
      "\n",
      "* **체인(Chains):**  여러 구성 요소를 연결하여 복잡한 작업을 수행할 수 있는 체인 기능을 제공합니다.  예를 들어, 문서를 요약하고, 요약 내용을 기반으로 질문에 답하는 체인을 만들 수 있습니다.\n",
      "\n",
      "* **에이전트(Agents):**  LLM이 외부 도구(검색 엔진, 계산기 등)를 사용하여 작업을 수행할 수 있도록 지원하는 에이전트 기능을 제공합니다.  이를 통해 LLM의 기능을 확장하고 더욱 복잡한 문제를 해결할 수 있습니다.\n",
      "\n",
      "* **인덱싱:**  대량의 문서를 효율적으로 처리하고 LLM이 관련 정보를 찾을 수 있도록 인덱싱 기능을 제공합니다.\n",
      "\n",
      "**LangChain을 사용하면 다음과 같은 애플리케이션을 구축할 수 있습니다.**\n",
      "\n",
      "* **챗봇:**  대화형 인터페이스를 통해 사용자와 상호 작용하는 챗봇을 개발할 수 있습니다.\n",
      "* **요약 도구:**  긴 문서나 텍스트를 요약하는 도구를 개발할 수 있습니다.\n",
      "* **질문 답변 시스템:**  문서나 데이터베이스에 대한 질문에 답하는 시스템을 개발할 수 있습니다.\n",
      "* **자동화된 작업:**  반복적인 작업을 자동화하는 시스템을 개발할 수 있습니다.\n",
      "\n",
      "\n",
      "요약하자면, LangChain은 LLM을 활용한 애플리케이션 개발을 간소화하고, 기능을 확장하며, 다양한 데이터 소스와의 통합을 용이하게 하는 강력한 프레임워크입니다.  LLM을 활용한 애플리케이션 개발에 관심 있는 개발자라면 LangChain을 고려해 볼 만한 가치가 있습니다.\n"
     ]
    }
   ],
   "source": [
    "from langchain_google_genai import ChatGoogleGenerativeAI\n",
    "from langchain_core.prompts import ChatPromptTemplate\n",
    "    \n",
    "# API 키 설정\n",
    "# os.environ[\"GOOGLE_API_KEY\"] = \"your-google-api-key\"\n",
    "\n",
    "# 모델 초기화\n",
    "llm = ChatGoogleGenerativeAI(\n",
    "    model=\"gemini-1.5-flash\",  # 또는 \"gemini-pro-vision\"\n",
    "    temperature=0.3    \n",
    ")\n",
    "\n",
    "# 프롬프트 설정\n",
    "prompt = ChatPromptTemplate.from_messages([\n",
    "    (\"system\", \"당신은 AI 전문가입니다다.\"),\n",
    "    (\"human\", \"{topic}은 무엇인가요?\")\n",
    "])\n",
    "\n",
    "# 체인 실행\n",
    "chain = prompt | llm\n",
    "response = chain.invoke({\"topic\": \"LangChain\"})\n",
    "\n",
    "print(\" Google Gemini Response:\")\n",
    "print(response.content)"
   ]
  }
 ],
 "metadata": {
  "kernelspec": {
   "display_name": "langchain-basic-kGdHTiMZ-py3.12",
   "language": "python",
   "name": "python3"
  },
  "language_info": {
   "codemirror_mode": {
    "name": "ipython",
    "version": 3
   },
   "file_extension": ".py",
   "mimetype": "text/x-python",
   "name": "python",
   "nbconvert_exporter": "python",
   "pygments_lexer": "ipython3",
   "version": "3.12.7"
  }
 },
 "nbformat": 4,
 "nbformat_minor": 5
}
